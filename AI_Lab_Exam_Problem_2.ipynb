{
  "nbformat": 4,
  "nbformat_minor": 0,
  "metadata": {
    "colab": {
      "provenance": []
    },
    "kernelspec": {
      "name": "python3",
      "display_name": "Python 3"
    },
    "language_info": {
      "name": "python"
    }
  },
  "cells": [
    {
      "cell_type": "code",
      "source": [
        "pip install pulp\n"
      ],
      "metadata": {
        "colab": {
          "base_uri": "https://localhost:8080/"
        },
        "id": "OXCTlyob-qvr",
        "outputId": "07cd51da-6589-4626-c415-2ce151b82b40"
      },
      "execution_count": 2,
      "outputs": [
        {
          "output_type": "stream",
          "name": "stdout",
          "text": [
            "Looking in indexes: https://pypi.org/simple, https://us-python.pkg.dev/colab-wheels/public/simple/\n",
            "Collecting pulp\n",
            "  Downloading PuLP-2.7.0-py3-none-any.whl (14.3 MB)\n",
            "\u001b[2K     \u001b[90m━━━━━━━━━━━━━━━━━━━━━━━━━━━━━━━━━━━━━━━━\u001b[0m \u001b[32m14.3/14.3 MB\u001b[0m \u001b[31m70.7 MB/s\u001b[0m eta \u001b[36m0:00:00\u001b[0m\n",
            "\u001b[?25hInstalling collected packages: pulp\n",
            "Successfully installed pulp-2.7.0\n"
          ]
        }
      ]
    },
    {
      "cell_type": "code",
      "execution_count": 5,
      "metadata": {
        "id": "HEyOCAJ5-ZYK"
      },
      "outputs": [],
      "source": [
        "import pulp\n",
        "\n",
        "# Define the decision variables\n",
        "T = 52 # number of weeks\n",
        "x = pulp.LpVariable.dicts('x', range(T), lowBound=0, cat='Integer')\n",
        "b_normal = pulp.LpVariable.dicts('b_normal', range(T+1), lowBound=0, cat='Integer')\n",
        "b_covid = pulp.LpVariable.dicts('b_covid', range(T+1), lowBound=0, cat='Integer')\n",
        "\n",
        "# Define the problem\n",
        "prob = pulp.LpProblem('Hospital Management', pulp.LpMinimize)\n",
        "\n",
        "# Define the objective function\n",
        "CP = 0.1 # example covid positivity rate\n",
        "obj = pulp.lpSum([1000 * CP * (0.005 * b_normal[t] + 0.01 * b_covid[t] + 0.02 * x[t]) + 100000 * (0.0117 * CP * 0.02 * x[t]) for t in range(T)])\n",
        "prob += obj\n",
        "\n",
        "# Add constraints\n",
        "b_normal[0] = 650 # initial number of normal beds\n",
        "for t in range(T):\n",
        "    prob += x[t] <= b_normal[t] # conversion cannot exceed available normal beds\n",
        "    prob += x[t] + b_covid[t] <= b_normal[t] + b_normal[0] # total covid beds cannot exceed total available beds\n",
        "    b_normal[t+1] = b_normal[t] - x[t] + b_covid[t] # update normal beds for next week\n",
        "    b_covid[t+1] = b_covid[t] + x[t] # update covid beds for next week\n",
        "\n",
        "\n"
      ]
    }
  ]
}